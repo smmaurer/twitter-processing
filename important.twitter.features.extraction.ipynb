{
 "cells": [
  {
   "cell_type": "markdown",
   "metadata": {},
   "source": [
    "- id\n",
    "- user/id\n",
    "- text\n",
    "- created_at\n",
    "- lang\n",
    "- source\n",
    "- coordinates (stored as a PostGIS point)"
   ]
  },
  {
   "cell_type": "code",
   "execution_count": 1,
   "metadata": {
    "collapsed": true
   },
   "outputs": [],
   "source": [
    "import zipfile\n",
    "import json\n",
    "from dateutil.parser import parse\n",
    "import numpy as np\n",
    "import glob"
   ]
  },
  {
   "cell_type": "code",
   "execution_count": 25,
   "metadata": {
    "collapsed": false
   },
   "outputs": [],
   "source": [
    "twitter_filenames = glob.glob('*.zip')\n",
    "twitter_filenames=twitter_filenames[6:8]\n",
    "twitter_filenames_json=[i.split('.')[0]+'.json' for i in twitter_filenames]"
   ]
  },
  {
   "cell_type": "code",
   "execution_count": 26,
   "metadata": {
    "collapsed": false
   },
   "outputs": [
    {
     "data": {
      "text/plain": [
       "['westcoast-20151007-074137.json.zip', 'westcoast-20151008-091012.json.zip']"
      ]
     },
     "execution_count": 26,
     "metadata": {},
     "output_type": "execute_result"
    }
   ],
   "source": [
    "twitter_filenames"
   ]
  },
  {
   "cell_type": "code",
   "execution_count": null,
   "metadata": {
    "collapsed": false
   },
   "outputs": [],
   "source": [
    "rawdata=[]\n",
    "i=0\n",
    "for twitter_file in twitter_filenames:\n",
    "    with zipfile.ZipFile(twitter_file) as z:\n",
    "        with z.open(twitter_filenames_json[i]) as f:\n",
    "            for line in f:\n",
    "                rawdata.append(line)\n",
    "    i=i+1"
   ]
  },
  {
   "cell_type": "code",
   "execution_count": null,
   "metadata": {
    "collapsed": true
   },
   "outputs": [],
   "source": [
    "rawdict=[]\n",
    "for i in range(len(rawdata)):\n",
    "    line=json.loads(rawdata[i])\n",
    "    rawdict.append(line)\n",
    "#     rawdict[i]['users'] = rawdict[i].pop('user')"
   ]
  },
  {
   "cell_type": "code",
   "execution_count": null,
   "metadata": {
    "collapsed": false
   },
   "outputs": [],
   "source": [
    "sqltw=[None]*len(rawdict)\n",
    "i=0"
   ]
  },
  {
   "cell_type": "code",
   "execution_count": null,
   "metadata": {
    "collapsed": false
   },
   "outputs": [],
   "source": [
    "for result in rawdict: \n",
    "    try:\n",
    "        if result['id']:\n",
    "            ids=result['id']\n",
    "            userid = result[\"user\"][\"id\"]\n",
    "            text = result[\"text\"]\n",
    "            lang=result['lang']\n",
    "            source=result['source']\n",
    "            text = text.encode('ascii', 'replace')\n",
    "            time=result[\"created_at\"]\n",
    "            if result[\"geo\"]:\n",
    "                latitude = result[\"geo\"][\"coordinates\"][0]\n",
    "                longitude = result[\"geo\"][\"coordinates\"][1]\n",
    "            else:\n",
    "                latitude=None\n",
    "                longitude=None\n",
    "\n",
    "            newtweet=[ids,userid,text,lang,source,latitude,longitude,time]\n",
    "            sqltw[i]=newtweet\n",
    "            i=i+1\n",
    "\n",
    "    except Exception:\n",
    "        continue"
   ]
  },
  {
   "cell_type": "code",
   "execution_count": 11,
   "metadata": {
    "collapsed": false
   },
   "outputs": [
    {
     "data": {
      "text/plain": [
       "8"
      ]
     },
     "execution_count": 11,
     "metadata": {},
     "output_type": "execute_result"
    }
   ],
   "source": [
    "len(sqltw[2])"
   ]
  },
  {
   "cell_type": "code",
   "execution_count": 12,
   "metadata": {
    "collapsed": false
   },
   "outputs": [
    {
     "name": "stdout",
     "output_type": "stream",
     "text": [
      "('GEOGCS[\"WGS 84\",DATUM[\"WGS_1984\",SPHEROID[\"WGS 84\",6378137,298.257223563,AUTHORITY[\"EPSG\",\"7030\"]],AUTHORITY[\"EPSG\",\"6326\"]],PRIMEM[\"Greenwich\",0,AUTHORITY[\"EPSG\",\"8901\"]],UNIT[\"degree\",0.0174532925199433,AUTHORITY[\"EPSG\",\"9122\"]],AUTHORITY[\"EPSG\",\"4326\"]]',)\n"
     ]
    }
   ],
   "source": [
    ">>> import psycopg2\n",
    ">>> conn = psycopg2.connect(\"dbname=siyuchen user=siyu host=localhost\")\n",
    ">>> cur = conn.cursor()\n",
    ">>> cur.execute(\"\"\"SELECT srtext FROM spatial_ref_sys WHERE srid = 4326;\"\"\")\n",
    ">>> rows = cur.fetchall()\n",
    ">>> print rows[0]"
   ]
  },
  {
   "cell_type": "code",
   "execution_count": 30,
   "metadata": {
    "collapsed": true
   },
   "outputs": [],
   "source": [
    "conn.rollback()"
   ]
  },
  {
   "cell_type": "code",
   "execution_count": 11,
   "metadata": {
    "collapsed": false
   },
   "outputs": [],
   "source": [
    "# cur.execute('DROP TABLE tweets')\n",
    "# conn.commit()"
   ]
  },
  {
   "cell_type": "code",
   "execution_count": 12,
   "metadata": {
    "collapsed": true
   },
   "outputs": [],
   "source": [
    "# cur.execute(\"CREATE TABLE tweets(id varchar,user_id varchar,text varchar,lang varchar,source varchar,\\\n",
    "#                                  loc geometry(Point),time varchar);\")"
   ]
  },
  {
   "cell_type": "code",
   "execution_count": null,
   "metadata": {
    "collapsed": false
   },
   "outputs": [],
   "source": [
    "for i in range(len(sqltw)):\n",
    "    try:\n",
    "        if sqltw[i]:\n",
    "            if sqltw[i][6]==None:\n",
    "                cur.execute(\"INSERT INTO tweets(id,user_id,text,lang,source,loc,time) \\\n",
    "                                         VALUES(%s,%s,%s,%s,%s,ST_GeomFromText(%s,%s),%s)\" ,\n",
    "                            (sqltw[i][0],sqltw[i][1],sqltw[i][2],sqltw[i][3],sqltw[i][4],\n",
    "                             None,4326,\n",
    "                             parse(sqltw[i][7])))\n",
    "            else:\n",
    "                cur.execute(\"INSERT INTO tweets(id,user_id,text,lang,source,loc,time) \\\n",
    "                                         VALUES(%s,%s,%s,%s,%s,ST_GeomFromText(%s,%s),%s)\" ,\n",
    "                            (sqltw[i][0],sqltw[i][1],sqltw[i][2],sqltw[i][3],sqltw[i][4],\n",
    "                             'POINT('+str(sqltw[i][6])+' '+str(sqltw[i][5])+')',4326,\n",
    "                             parse(sqltw[i][7])))\n",
    "    except Exception:\n",
    "        continue \n",
    "conn.commit()"
   ]
  },
  {
   "cell_type": "code",
   "execution_count": 18,
   "metadata": {
    "collapsed": false
   },
   "outputs": [],
   "source": [
    "sqltw[i]"
   ]
  },
  {
   "cell_type": "code",
   "execution_count": 19,
   "metadata": {
    "collapsed": false
   },
   "outputs": [
    {
     "data": {
      "text/plain": [
       "499999"
      ]
     },
     "execution_count": 19,
     "metadata": {},
     "output_type": "execute_result"
    }
   ],
   "source": [
    "i"
   ]
  },
  {
   "cell_type": "code",
   "execution_count": null,
   "metadata": {
    "collapsed": true
   },
   "outputs": [],
   "source": []
  }
 ],
 "metadata": {
  "kernelspec": {
   "display_name": "Python 2",
   "language": "python",
   "name": "python2"
  },
  "language_info": {
   "codemirror_mode": {
    "name": "ipython",
    "version": 2
   },
   "file_extension": ".py",
   "mimetype": "text/x-python",
   "name": "python",
   "nbconvert_exporter": "python",
   "pygments_lexer": "ipython2",
   "version": "2.7.10"
  }
 },
 "nbformat": 4,
 "nbformat_minor": 0
}
