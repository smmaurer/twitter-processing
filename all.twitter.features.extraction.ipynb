{
 "cells": [
  {
   "cell_type": "code",
   "execution_count": 1,
   "metadata": {
    "collapsed": true
   },
   "outputs": [],
   "source": [
    "import zipfile\n",
    "import json\n",
    "from dateutil.parser import parse\n",
    "import numpy as np\n",
    "import glob"
   ]
  },
  {
   "cell_type": "code",
   "execution_count": 3,
   "metadata": {
    "collapsed": false
   },
   "outputs": [],
   "source": [
    "twitter_filenames = glob.glob('*.zip')\n",
    "twitter_filenames_json=[i.split('.')[0]+'.json' for i in twitter_filenames]"
   ]
  },
  {
   "cell_type": "code",
   "execution_count": 325,
   "metadata": {
    "collapsed": false
   },
   "outputs": [],
   "source": [
    "rawdata=[]\n",
    "with zipfile.ZipFile('westcoast-20151003-233008.json.zip') as z:\n",
    "    with z.open('westcoast-20151003-233008.json') as f:\n",
    "        for line in f:\n",
    "            rawdata.append(line)"
   ]
  },
  {
   "cell_type": "code",
   "execution_count": 326,
   "metadata": {
    "collapsed": true
   },
   "outputs": [],
   "source": [
    "rawdict=[]\n",
    "for i in range(len(rawdata)):\n",
    "    line=json.loads(rawdata[i])\n",
    "    rawdict.append(line)\n",
    "#     rawdict[i]['users'] = rawdict[i].pop('user')"
   ]
  },
  {
   "cell_type": "code",
   "execution_count": 350,
   "metadata": {
    "collapsed": false
   },
   "outputs": [
    {
     "ename": "KeyError",
     "evalue": "'contributors'",
     "output_type": "error",
     "traceback": [
      "\u001b[0;31m---------------------------------------------------------------------------\u001b[0m",
      "\u001b[0;31mKeyError\u001b[0m                                  Traceback (most recent call last)",
      "\u001b[0;32m<ipython-input-350-4b4d30945c06>\u001b[0m in \u001b[0;36m<module>\u001b[0;34m()\u001b[0m\n\u001b[1;32m      3\u001b[0m \u001b[0;32mfor\u001b[0m \u001b[0mresult\u001b[0m \u001b[0;32min\u001b[0m \u001b[0mrawdict\u001b[0m\u001b[0;34m:\u001b[0m\u001b[0;34m\u001b[0m\u001b[0m\n\u001b[1;32m      4\u001b[0m \u001b[0;34m\u001b[0m\u001b[0m\n\u001b[0;32m----> 5\u001b[0;31m     \u001b[0mcontributors\u001b[0m\u001b[0;34m=\u001b[0m\u001b[0mresult\u001b[0m\u001b[0;34m[\u001b[0m\u001b[0;34m'contributors'\u001b[0m\u001b[0;34m]\u001b[0m\u001b[0;34m\u001b[0m\u001b[0m\n\u001b[0m\u001b[1;32m      6\u001b[0m     \u001b[0;32mif\u001b[0m \u001b[0mresult\u001b[0m\u001b[0;34m[\u001b[0m\u001b[0;34m\"coordinates\"\u001b[0m\u001b[0;34m]\u001b[0m\u001b[0;34m:\u001b[0m\u001b[0;34m\u001b[0m\u001b[0m\n\u001b[1;32m      7\u001b[0m         \u001b[0mcoordinates_lat\u001b[0m \u001b[0;34m=\u001b[0m \u001b[0mresult\u001b[0m\u001b[0;34m[\u001b[0m\u001b[0;34m\"coordinates\"\u001b[0m\u001b[0;34m]\u001b[0m\u001b[0;34m[\u001b[0m\u001b[0;34m\"coordinates\"\u001b[0m\u001b[0;34m]\u001b[0m\u001b[0;34m[\u001b[0m\u001b[0;36m0\u001b[0m\u001b[0;34m]\u001b[0m\u001b[0;34m\u001b[0m\u001b[0m\n",
      "\u001b[0;31mKeyError\u001b[0m: 'contributors'"
     ]
    }
   ],
   "source": [
    "sqltw=[None]*len(rawdict)\n",
    "i=0\n",
    "for result in rawdict:\n",
    "    try:  \n",
    "        if result['id']:\n",
    "            contributors=result['contributors']\n",
    "            if result[\"coordinates\"]:\n",
    "                coordinates_lat = result[\"coordinates\"][\"coordinates\"][0]\n",
    "                coordinates_lon = result[\"coordinates\"][\"coordinates\"][1]\n",
    "            else: \n",
    "                coordinates_lat = None\n",
    "                coordinates_lon = None\n",
    "\n",
    "            created_at = result[\"created_at\"]\n",
    "            if result[\"entities\"][\"hashtags\"]:\n",
    "                entities_hashtags_indices=result[\"entities\"][\"hashtags\"][0][\"indices\"]\n",
    "                entities_hashtags_text=result[\"entities\"][\"hashtags\"][0][\"text\"]\n",
    "            else:\n",
    "                entities_hashtags_indices=None\n",
    "                entities_hashtags_text=None\n",
    "            entities_symbols=result[\"entities\"][\"symbols\"]\n",
    "            if result[\"entities\"][\"urls\"]:\n",
    "                entities_urls_display_url=result[\"entities\"][\"urls\"][0][\"display_url\"]\n",
    "                entities_urls_indices=result[\"entities\"][\"urls\"][0][\"indices\"]\n",
    "                entities_urls_url=result[\"entities\"][\"urls\"][0][\"url\"]\n",
    "            else:\n",
    "                entities_urls_display_url=None\n",
    "                entities_urls_indices=None\n",
    "                entities_urls_url=None\n",
    "            if result[\"entities\"][\"user_mentions\"]:\n",
    "                entities_user_mentions_id=result[\"entities\"][\"user_mentions\"][0][\"id\"]\n",
    "                entities_user_mentions_indices=result[\"entities\"][\"user_mentions\"][0][\"indices\"]\n",
    "                entities_user_mentions_name=result[\"entities\"][\"user_mentions\"][0][\"name\"]\n",
    "                entities_user_mentions_screen_name=result[\"entities\"][\"user_mentions\"][0][\"screen_name\"]\n",
    "            else:\n",
    "                entities_user_mentions_id=None\n",
    "                entities_user_mentions_indices=None\n",
    "                entities_user_mentions_name=None\n",
    "                entities_user_mentions_screen_name=None\n",
    "            favorite_count=result[\"favorite_count\"]\n",
    "            favorited=result[\"favorited\"]\n",
    "            filter_level=result[\"filter_level\"]\n",
    "            if result[\"geo\"]:\n",
    "                latitude = result[\"geo\"][\"coordinates\"][0]\n",
    "                longitude = result[\"geo\"][\"coordinates\"][1]\n",
    "            else:\n",
    "                latitude=None\n",
    "                longitude=None\n",
    "            ids=result[\"id\"]\n",
    "            in_reply_to_screen_name=result[\"in_reply_to_screen_name\"]\n",
    "            in_reply_to_status_id=result[\"in_reply_to_status_id\"]\n",
    "            in_reply_to_user_id=result[\"in_reply_to_user_id\"]\n",
    "            is_quote_status=result[\"is_quote_status\"]\n",
    "            lang=result['lang']\n",
    "            if result[\"place\"]:\n",
    "                place_bounding_box_coordinates=result[\"place\"][\"bounding_box\"][\"coordinates\"]\n",
    "                place_bounding_box_type=result[\"place\"][\"bounding_box\"][\"type\"]\n",
    "                place_country=result[\"place\"][\"country\"]\n",
    "                place_country_code=result[\"place\"][\"country_code\"]\n",
    "                place_full_name=result[\"place\"][\"full_name\"]\n",
    "                place_id=result[\"place\"][\"id\"]\n",
    "                place_name=result[\"place\"][\"name\"]\n",
    "                place_place_type=result[\"place\"][\"place_type\"]\n",
    "                place_url=result[\"place\"][\"url\"]\n",
    "            else:\n",
    "                place_bounding_box_coordinates=None\n",
    "                place_bounding_box_type=None\n",
    "                place_country=None\n",
    "                place_country_code=None\n",
    "                place_full_name=None\n",
    "                place_id=None\n",
    "                place_name=None\n",
    "                place_place_type=None\n",
    "                place_url=None\n",
    "\n",
    "            retweet_count=result[\"retweet_count\"]\n",
    "            retweeted=result[\"retweeted\"]\n",
    "            source=result[\"source\"]\n",
    "            text=result[\"text\"]\n",
    "            text = text.encode('ascii', 'replace')\n",
    "            timestamp_ms=result[\"timestamp_ms\"]\n",
    "            truncated=result[\"truncated\"]\n",
    "            user_contributors_enabled=result[\"user\"][\"contributors_enabled\"]\n",
    "            user_created_at=result[\"user\"][\"created_at\"]\n",
    "            user_default_profile=result[\"user\"][\"default_profile\"]\n",
    "            user_default_profile_image=result[\"user\"][\"default_profile_image\"]\n",
    "            user_description=result[\"user\"][\"description\"]\n",
    "            user_favourites_count=result[\"user\"][\"favourites_count\"]\n",
    "            user_follow_request_sent=result[\"user\"][\"follow_request_sent\"]\n",
    "            user_followers_count=result[\"user\"][\"followers_count\"]\n",
    "            user_following=result[\"user\"][\"following\"]\n",
    "            user_friends_count=result[\"user\"][\"friends_count\"]\n",
    "            user_geo_enabled=result[\"user\"][\"geo_enabled\"]\n",
    "            user_id=result[\"user\"][\"id\"]\n",
    "            user_is_translator=result[\"user\"][\"is_translator\"]\n",
    "            user_lang=result[\"user\"][\"lang\"]\n",
    "            user_listed_count=result[\"user\"][\"listed_count\"]\n",
    "            user_location=result[\"user\"][\"location\"]\n",
    "            user_name=result[\"user\"][\"name\"]\n",
    "            user_notifications=result[\"user\"][\"notifications\"]\n",
    "            user_profile_background_color=result[\"user\"][\"profile_background_color\"]\n",
    "            user_profile_background_image_url=result[\"user\"][\"profile_background_image_url\"]\n",
    "            user_profile_background_tile=result[\"user\"][\"profile_background_tile\"]\n",
    "            user_profile_image_url=result[\"user\"][\"profile_image_url\"]\n",
    "            user_profile_link_color=result[\"user\"][\"profile_link_color\"]\n",
    "            user_profile_sidebar_border_color=result[\"user\"][\"profile_sidebar_border_color\"]\n",
    "            user_profile_sidebar_fill_color=result[\"user\"][\"profile_sidebar_fill_color\"]\n",
    "            user_profile_text_color=result[\"user\"][\"profile_text_color\"]\n",
    "            user_profile_use_background_image=result[\"user\"][\"profile_use_background_image\"]\n",
    "            user_protected=result[\"user\"][\"protected\"]\n",
    "            user_screen_name=result[\"user\"][\"screen_name\"]\n",
    "            user_statuses_count=result[\"user\"][\"statuses_count\"]\n",
    "            user_time_zone=result[\"user\"][\"time_zone\"]\n",
    "            user_url=result[\"user\"][\"url\"]\n",
    "            user_utc_offset=result[\"user\"][\"utc_offset\"]\n",
    "            user_verified=result[\"user\"][\"verified\"]\n",
    "\n",
    "        #3 4 3 6 3 \n",
    "            newtweet=[contributors,coordinates_lat,coordinates_lon,created_at,entities_hashtags_indices,\\\n",
    "                     entities_hashtags_text,entities_symbols,entities_urls_display_url,entities_urls_indices,\n",
    "                     entities_urls_url,entities_user_mentions_id,\\\n",
    "                     entities_user_mentions_indices,entities_user_mentions_name,entities_user_mentions_screen_name,\\\n",
    "                     favorite_count,favorited,filter_level,latitude,longitude,ids,\\\n",
    "                     in_reply_to_screen_name,in_reply_to_status_id,in_reply_to_user_id,\\\n",
    "                     is_quote_status,lang,place_bounding_box_coordinates,place_bounding_box_type,\\\n",
    "                     place_country,place_country_code,place_full_name,place_id,\\\n",
    "                     place_name,place_place_type,place_url,retweet_count,\\\n",
    "                     retweeted,source,text,timestamp_ms,\\\n",
    "                     truncated,user_contributors_enabled,user_created_at,user_default_profile,\\\n",
    "                     user_default_profile_image,user_description,user_favourites_count,user_follow_request_sent,\\\n",
    "                     user_followers_count,user_following,user_friends_count,user_geo_enabled,\\\n",
    "                     user_id,user_is_translator,user_lang,user_listed_count,\\\n",
    "                     user_location,user_name,user_notifications,user_profile_background_color,\\\n",
    "                     user_profile_background_image_url,user_profile_background_tile,user_profile_image_url,user_profile_link_color,\\\n",
    "                     user_profile_sidebar_border_color,user_profile_sidebar_fill_color,user_profile_text_color,user_profile_use_background_image,\\\n",
    "                     user_protected,user_screen_name,user_statuses_count,user_time_zone,\\\n",
    "                     user_url,user_utc_offset,user_verified]\n",
    "            sqltw[i]=newtweet\n",
    "            i=i+1\n",
    "    except Exception:\n",
    "        continue"
   ]
  },
  {
   "cell_type": "code",
   "execution_count": 25,
   "metadata": {
    "collapsed": false
   },
   "outputs": [
    {
     "name": "stdout",
     "output_type": "stream",
     "text": [
      "('GEOGCS[\"WGS 84\",DATUM[\"WGS_1984\",SPHEROID[\"WGS 84\",6378137,298.257223563,AUTHORITY[\"EPSG\",\"7030\"]],AUTHORITY[\"EPSG\",\"6326\"]],PRIMEM[\"Greenwich\",0,AUTHORITY[\"EPSG\",\"8901\"]],UNIT[\"degree\",0.0174532925199433,AUTHORITY[\"EPSG\",\"9122\"]],AUTHORITY[\"EPSG\",\"4326\"]]',)\n"
     ]
    }
   ],
   "source": [
    ">>> import psycopg2\n",
    ">>> conn = psycopg2.connect(\"dbname=siyuchen user=siyu host=localhost\")\n",
    ">>> cur = conn.cursor()\n",
    ">>> cur.execute(\"\"\"SELECT srtext FROM spatial_ref_sys WHERE srid = 4326;\"\"\")\n",
    ">>> rows = cur.fetchall()\n",
    ">>> print rows[0]"
   ]
  },
  {
   "cell_type": "code",
   "execution_count": 321,
   "metadata": {
    "collapsed": true
   },
   "outputs": [],
   "source": [
    "conn.rollback()"
   ]
  },
  {
   "cell_type": "code",
   "execution_count": 322,
   "metadata": {
    "collapsed": false
   },
   "outputs": [],
   "source": [
    "cur.execute('DROP TABLE tweets_all')\n",
    "conn.commit()"
   ]
  },
  {
   "cell_type": "code",
   "execution_count": 317,
   "metadata": {
    "collapsed": true
   },
   "outputs": [],
   "source": [
    "variables=\"contributors varchar,coordinates_coordinates geometry(point),created_at varchar, \\\n",
    "            entities_hashtags_indices varchar,entities_hashtags_text varchar, entities_symbols varchar,\\\n",
    "            entities_urls_display_url varchar,entities_urls_indices varchar,entities_urls_url varchar,\\\n",
    "            entities_user_mentions_id numeric, entities_user_mentions_indices varchar,\\\n",
    "            entities_user_mentions_name varchar, entities_user_mentions_screen_name varchar,\\\n",
    "            favorite_count numeric, favorited varchar, filter_level varchar,\\\n",
    "            geo geometry(point), id numeric,\\\n",
    "            in_reply_to_screen_name varchar, in_reply_to_status_id numeric,  \\\n",
    "            in_reply_to_user_id numeric, is_quote_status varchar,\\\n",
    "            lang varchar,place_bounding_box_coordinates geometry(polygon),\\\n",
    "            place_bounding_box_type varchar, place_country varchar, place_country_code varchar,\\\n",
    "            place_full_name varchar, place_id varchar, place_name varchar,\\\n",
    "            place_place_type varchar, place_url varchar, retweet_count varchar, \\\n",
    "            retweeted varchar, source varchar, text varchar, \\\n",
    "            timestamp_ms varchar, truncated varchar, users_contributors_enabled varchar,\\\n",
    "            users_created_at varchar, users_default_profile varchar, users_default_profile_image varchar, \\\n",
    "            users_description varchar, users_favourites_count numeric, users_follow_request_sent numeric, \\\n",
    "            users_followers_count numeric, users_following numeric, users_friends_count numeric, \\\n",
    "            users_geo_enabled varchar, users_id numeric,\\\n",
    "            users_is_translator varchar, users_lang varchar, users_listed_count numeric, \\\n",
    "            users_location varchar, users_name varchar, users_notifications varchar, \\\n",
    "            users_profile_background_color varchar, users_profile_background_image_url varchar,\\\n",
    "            users_profile_background_tile varchar,users_profile_image_url varchar,\\\n",
    "            users_profile_link_color varchar,users_profile_sidebar_border_color varchar, \\\n",
    "            users_profile_sidebar_fill_color varchar, users_profile_text_color varchar, users_profile_use_background_image varchar, \\\n",
    "            users_protected varchar, users_screen_name varchar, users_statuses_count numeric, \\\n",
    "            users_time_zone varchar, users_url varchar, users_utc_offset numeric, users_verified varchar\"\n",
    "            "
   ]
  },
  {
   "cell_type": "code",
   "execution_count": 318,
   "metadata": {
    "collapsed": true
   },
   "outputs": [],
   "source": [
    "placeholders=\"%s,ST_GeomFromText(%s,%s),%s,%s,\\\n",
    "                %s,%s,%s,%s,\\\n",
    "                %s,%s,%s,\\\n",
    "                %s,%s,\\\n",
    "                %s,%s,%s,\\\n",
    "                ST_GeomFromText(%s,%s),%s,\\\n",
    "                %s,%s,\\\n",
    "                %s,%s,\\\n",
    "                %s,ST_GeomFromText(%s,%s),\\\n",
    "                %s,%s,%s,\\\n",
    "                %s,%s,%s,\\\n",
    "                %s,%s,%s,\\\n",
    "                %s,%s,%s,\\\n",
    "                %s,%s,%s,\\\n",
    "                %s,%s,%s,\\\n",
    "                %s,%s,%s,\\\n",
    "                %s,%s,%s,\\\n",
    "                %s,%s,\\\n",
    "                %s,%s,%s,\\\n",
    "                %s,%s,%s,\\\n",
    "                %s,%s,\\\n",
    "                %s,%s,\\\n",
    "                %s,%s,\\\n",
    "                %s,%s,%s,\\\n",
    "                %s,%s,%s,\\\n",
    "                %s,%s,%s,%s\""
   ]
  },
  {
   "cell_type": "code",
   "execution_count": 319,
   "metadata": {
    "collapsed": true
   },
   "outputs": [],
   "source": [
    "column=\"contributors, coordinates_coordinates,created_at, \\\n",
    "            entities_hashtags_indices,entities_hashtags_text, entities_symbols,\\\n",
    "            entities_urls_display_url,entities_urls_indices,entities_urls_url,\\\n",
    "            entities_user_mentions_id, entities_user_mentions_indices,\\\n",
    "            entities_user_mentions_name, entities_user_mentions_screen_name,\\\n",
    "            favorite_count, favorited, filter_level,\\\n",
    "            geo,id,\\\n",
    "            in_reply_to_screen_name, in_reply_to_status_id, \\\n",
    "            in_reply_to_user_id, is_quote_status,\\\n",
    "            lang,place_bounding_box_coordinates,\\\n",
    "            place_bounding_box_type, place_country, place_country_code,\\\n",
    "            place_full_name, place_id, place_name,\\\n",
    "            place_place_type, place_url, retweet_count, \\\n",
    "            retweeted, source, text, \\\n",
    "            timestamp_ms, truncated, users_contributors_enabled,\\\n",
    "            users_created_at, users_default_profile, users_default_profile_image, \\\n",
    "            users_description, users_favourites_count, users_follow_request_sent, \\\n",
    "            users_followers_count, users_following, users_friends_count, \\\n",
    "            users_geo_enabled, users_id,\\\n",
    "            users_is_translator, users_lang, users_listed_count, \\\n",
    "            users_location, users_name, users_notifications, \\\n",
    "            users_profile_background_color, users_profile_background_image_url,\\\n",
    "            users_profile_background_tile, users_profile_image_url,\\\n",
    "            users_profile_link_color,users_profile_sidebar_border_color, \\\n",
    "            users_profile_sidebar_fill_color, users_profile_text_color, users_profile_use_background_image, \\\n",
    "            users_protected, users_screen_name, users_statuses_count, \\\n",
    "            users_time_zone, users_url, users_utc_offset, users_verified\""
   ]
  },
  {
   "cell_type": "code",
   "execution_count": 283,
   "metadata": {
    "collapsed": true
   },
   "outputs": [],
   "source": [
    "table=\"tweets_all\""
   ]
  },
  {
   "cell_type": "code",
   "execution_count": 323,
   "metadata": {
    "collapsed": false
   },
   "outputs": [],
   "source": [
    "ctb=\"CREATE TABLE %s(%s);\" % (table,variables)\n",
    "cur.execute(ctb)\n",
    "conn.commit()"
   ]
  },
  {
   "cell_type": "code",
   "execution_count": 224,
   "metadata": {
    "collapsed": true
   },
   "outputs": [],
   "source": [
    "conn.rollback()"
   ]
  },
  {
   "cell_type": "code",
   "execution_count": 347,
   "metadata": {
    "collapsed": false
   },
   "outputs": [
    {
     "data": {
      "text/plain": [
       "'POLYGON((36.269156 -119.812801,36.328042 -119.812801,36.328042 -119.715005,36.269156 -119.715005,36.269156 -119.812801))'"
      ]
     },
     "execution_count": 347,
     "metadata": {},
     "output_type": "execute_result"
    }
   ],
   "source": [
    "x0[25]"
   ]
  },
  {
   "cell_type": "code",
   "execution_count": 324,
   "metadata": {
    "collapsed": false
   },
   "outputs": [],
   "source": [
    "for i in range(len(sqltw)):\n",
    "    try:\n",
    "        if sqltw[i]:\n",
    "            x0=(sqltw[i][0],)\n",
    "            x0=x0+('POINT('+str(sqltw[i][2])+' '+str(sqltw[i][1])+')',4326,)\n",
    "            for j in range(3,17):\n",
    "                x0=x0+(sqltw[i][j],)    \n",
    "            x0=x0+('POINT('+str(sqltw[i][18])+' '+str(sqltw[i][17])+')',4326,)\n",
    "            for j in range(19,25):\n",
    "                x0=x0+(sqltw[i][j],) \n",
    "\n",
    "\n",
    "            x0=x0+(\"POLYGON((\"+str(sqltw[i][25][0][0][1])+' '+\\\n",
    "                                             str(sqltw[i][25][0][0][0])+','+\\\n",
    "                                             str(sqltw[i][25][0][1][1])+' '+\\\n",
    "                                             str(sqltw[i][25][0][1][0])+','+\\\n",
    "                                             str(sqltw[i][25][0][2][1])+' '+\\\n",
    "                                             str(sqltw[i][25][0][2][0])+','+\\\n",
    "                                             str(sqltw[i][25][0][3][1])+' '+\\\n",
    "                                             str(sqltw[i][25][0][3][0])+','+\\\n",
    "                                             str(sqltw[i][25][0][0][1])+' '+\\\n",
    "                                             str(sqltw[i][25][0][0][0])+'))',4326,)\n",
    "\n",
    "\n",
    "            for j in range(26,74):\n",
    "                x0=x0+(sqltw[i][j],)\n",
    "\n",
    "            ##with boundingboX x1:geo=None\n",
    "            x1 = list(x0)\n",
    "            x1[17] = None\n",
    "            x1 = tuple(x1)\n",
    "\n",
    "            ##with boundingboX x2:coor=None\n",
    "            x2 = list(x0)\n",
    "            x2[1] = None\n",
    "            x2 = tuple(x2)\n",
    "\n",
    "            ##with boundingboX x3:coor,geo=None\n",
    "            x3 = list(x0)\n",
    "            x3[1] = None\n",
    "            x3[17] = None\n",
    "            x3 = tuple(x3)\n",
    "\n",
    "            ##without boundingboX \n",
    "            x00 = list(x0)\n",
    "            x00[25] = None\n",
    "            x00 = tuple(x00)\n",
    "\n",
    "            x11 = list(x0)\n",
    "            x11[17] = None\n",
    "            x11[25] = None\n",
    "            x11 = tuple(x11)\n",
    "\n",
    "            x22 = list(x0)\n",
    "            x22[1] = None\n",
    "            x22[25] = None\n",
    "            x22 = tuple(x22)\n",
    "\n",
    "            x33 = list(x0)\n",
    "            x33[1] = None\n",
    "            x33[17] = None\n",
    "            x33[25] = None\n",
    "            x33 = tuple(x33)\n",
    "\n",
    "\n",
    "\n",
    "\n",
    "            if sqltw[i][1]!=None and sqltw[i][17]!=None and sqltw[i][25]!=None:\n",
    "                cur.execute(\"INSERT INTO %s (%s) VALUES (%s)\" %(table, column, placeholders),x0)\n",
    "            elif sqltw[i][1]!=None and sqltw[i][17]==None and sqltw[i][25]!=None:\n",
    "                cur.execute(\"INSERT INTO %s (%s) VALUES (%s)\" %(table, column, placeholders),x1)  \n",
    "            elif sqltw[i][1]==None and sqltw[i][17]!=None and sqltw[i][25]!=None:\n",
    "                cur.execute(\"INSERT INTO %s (%s) VALUES (%s)\" %(table, column, placeholders),x2)        \n",
    "            elif sqltw[i][1]==None and sqltw[i][17]==None and sqltw[i][25]!=None:\n",
    "                cur.execute(\"INSERT INTO %s (%s) VALUES (%s)\" %(table, column, placeholders),x3) \n",
    "\n",
    "            elif sqltw[i][1]!=None and sqltw[i][17]!=None and sqltw[i][25]==None:\n",
    "                cur.execute(\"INSERT INTO %s (%s) VALUES (%s)\" %(table, column, placeholders),x00)\n",
    "            elif sqltw[i][1]!=None and sqltw[i][17]==None and sqltw[i][25]==None:\n",
    "                cur.execute(\"INSERT INTO %s (%s) VALUES (%s)\" %(table, column, placeholders),x11)  \n",
    "            elif sqltw[i][1]==None and sqltw[i][17]!=None and sqltw[i][25]==None:\n",
    "                cur.execute(\"INSERT INTO %s (%s) VALUES (%s)\" %(table, column, placeholders),x22)        \n",
    "            elif sqltw[i][1]==None and sqltw[i][17]==None and sqltw[i][25]==None:\n",
    "                cur.execute(\"INSERT INTO %s (%s) VALUES (%s)\" %(table, column, placeholders),x33)  \n",
    "    except Exception:\n",
    "        continue \n",
    "\n",
    "conn.commit()"
   ]
  },
  {
   "cell_type": "code",
   "execution_count": null,
   "metadata": {
    "collapsed": true
   },
   "outputs": [],
   "source": []
  }
 ],
 "metadata": {
  "kernelspec": {
   "display_name": "Python 2",
   "language": "python",
   "name": "python2"
  },
  "language_info": {
   "codemirror_mode": {
    "name": "ipython",
    "version": 2
   },
   "file_extension": ".py",
   "mimetype": "text/x-python",
   "name": "python",
   "nbconvert_exporter": "python",
   "pygments_lexer": "ipython2",
   "version": "2.7.10"
  }
 },
 "nbformat": 4,
 "nbformat_minor": 0
}
